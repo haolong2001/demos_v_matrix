{
 "cells": [
  {
   "cell_type": "code",
   "execution_count": 2,
   "metadata": {},
   "outputs": [
    {
     "name": "stdout",
     "output_type": "stream",
     "text": [
      "Matrix shape: (8, 86, 34)\n"
     ]
    }
   ],
   "source": [
    "import numpy as np\n",
    "\n",
    "# Define the file path\n",
    "file_path = \"./data/bin/mig_disappear.bin\"\n",
    "\n",
    "# Read the binary file and reshape it into an 8 * 86 * 34 matrix\n",
    "try:\n",
    "    with open(file_path, 'rb') as f:\n",
    "        # Read all data and convert it to a numpy array of floats\n",
    "        data = np.fromfile(f, dtype=np.float64)\n",
    "    \n",
    "    # Reshape the data into an 8 * 86 * 34 matrix\n",
    "    matrix = data.reshape((8, 86, 34))\n",
    "    \n",
    "    # Print the shape of the matrix to confirm\n",
    "    print(\"Matrix shape:\", matrix.shape)\n",
    "\n",
    "except FileNotFoundError:\n",
    "    print(\"File not found. Please check the file path.\")\n",
    "except ValueError:\n",
    "    print(\"The file does not contain enough data to reshape into the specified dimensions.\")\n"
   ]
  },
  {
   "cell_type": "code",
   "execution_count": 4,
   "metadata": {},
   "outputs": [
    {
     "data": {
      "text/plain": [
       "array([0.0071    , 0.0003    , 0.0003    , 0.0003    , 0.0004    ,\n",
       "       0.0002    , 0.0002    , 0.0002    , 0.0001    , 0.0001    ,\n",
       "       0.0003    , 0.0001    , 0.0001    , 0.00479594, 0.0001    ,\n",
       "       0.0003    , 0.0002    , 0.0002    , 0.0003    , 0.0003    ,\n",
       "       0.0004    , 0.0005    , 0.0005    , 0.0004    , 0.0004    ,\n",
       "       0.0004    , 0.0004    , 0.0003    , 0.0003    , 0.0003    ,\n",
       "       0.0004    , 0.0004    , 0.0005    , 0.0005    ])"
      ]
     },
     "execution_count": 4,
     "metadata": {},
     "output_type": "execute_result"
    }
   ],
   "source": [
    "matrix[0][0]"
   ]
  },
  {
   "cell_type": "code",
   "execution_count": 28,
   "metadata": {},
   "outputs": [],
   "source": [
    "\n",
    "import numpy as np\n",
    "import pandas as pd \n",
    "\n",
    "# Load and reshape result_matrix\n",
    "result_matrix = np.fromfile(\"data/bin/result_matrix_data.bin\", dtype=np.float64)  # Specify data type if needed\n",
    "result_matrix = result_matrix.reshape(8, 86, 35)  # Reshape to correct dimensions (8 cohorts, 86 ages, 35 years)\n",
    "\n",
    "# Load and reshape death_matrix\n",
    "death_matrix = np.fromfile(\"data/bin/death_by_cohort.bin\", dtype=np.float64)  # Specify data type if needed\n",
    "death_matrix = death_matrix.reshape(2, 86, 34)  # Reshape to correct dimensions (2 groups, 86 ages, 34 years)\n",
    "\n",
    "# Load and reshape fertility_matrix\n",
    "fertility_matrix = np.fromfile(\"data/bin/AESFR_matrix_combine.bin\", dtype=np.float64)  # Specify data type if needed\n",
    "fertility_matrix = fertility_matrix.reshape(12, 71, 35)  # Reshape to correct dimensions (12 groups, 71 ages, 35 years)\n",
    "\n"
   ]
  },
  {
   "cell_type": "code",
   "execution_count": 31,
   "metadata": {},
   "outputs": [
    {
     "data": {
      "text/plain": [
       "array([[38.3475, 42.5425, 40.525 , ..., 24.745 , 22.965 , 23.01  ],\n",
       "       [45.1625, 38.8375, 43.08  , ..., 26.785 , 26.81  , 24.7925],\n",
       "       [39.8525, 45.59  , 39.22  , ..., 30.295 , 27.5775, 27.4375],\n",
       "       ...,\n",
       "       [ 4.1675,  4.43  ,  4.5375, ..., 19.03  , 19.655 , 20.29  ],\n",
       "       [ 3.3325,  3.7475,  4.0025, ..., 14.2625, 18.2125, 18.8275],\n",
       "       [15.0975, 16.1125, 17.18  , ..., 86.725 , 90.385 , 97.795 ]])"
      ]
     },
     "execution_count": 31,
     "metadata": {},
     "output_type": "execute_result"
    }
   ],
   "source": [
    "result_matrix[1][:][:]/400"
   ]
  },
  {
   "cell_type": "code",
   "execution_count": 3,
   "metadata": {},
   "outputs": [],
   "source": [
    "fertility_matrix = np.fromfile(\"data/bin/AESFR_matrix_combine(r).bin\", dtype=np.float64)  # Specify data type if needed\n",
    "fertility_matrix = fertility_matrix.reshape((12, 71, 35), order='F')  # Reshape to correct dimensions (12 groups, 71 ages, 35 years)\n"
   ]
  },
  {
   "cell_type": "code",
   "execution_count": 72,
   "metadata": {},
   "outputs": [],
   "source": [
    "fertility_matrix.tofile(\"data/bin/AESFR_matrix_combine.bin\")"
   ]
  },
  {
   "cell_type": "code",
   "execution_count": 4,
   "metadata": {},
   "outputs": [
    {
     "name": "stdout",
     "output_type": "stream",
     "text": [
      "0.8731472668269227\n",
      "1.8366201129807695\n",
      "1.0136537235576923\n",
      "1.8366201129807695\n",
      "0.8731472668269227\n",
      "1.8366201129807695\n",
      "1.0136537235576923\n",
      "1.8366201129807695\n",
      "0.8731472668269227\n",
      "1.8366201129807695\n",
      "1.0136537235576923\n",
      "1.8366201129807695\n"
     ]
    }
   ],
   "source": [
    "for i in range(12):\n",
    "  print( sum(fertility_matrix[i, 42, :]))"
   ]
  },
  {
   "cell_type": "code",
   "execution_count": 37,
   "metadata": {},
   "outputs": [],
   "source": [
    "birth = sum(result_matrix[1, 14:49, 0]/400 * fertility_matrix[0, 0, :])"
   ]
  },
  {
   "cell_type": "code",
   "execution_count": 38,
   "metadata": {},
   "outputs": [
    {
     "data": {
      "text/plain": [
       "89.04977951193956"
      ]
     },
     "execution_count": 38,
     "metadata": {},
     "output_type": "execute_result"
    }
   ],
   "source": [
    "birth"
   ]
  },
  {
   "cell_type": "code",
   "execution_count": 39,
   "metadata": {},
   "outputs": [],
   "source": [
    "y = 32\n",
    "birth = sum(result_matrix[1, 14:49, y]/400 * fertility_matrix[0, y + 10, :])"
   ]
  },
  {
   "cell_type": "code",
   "execution_count": null,
   "metadata": {},
   "outputs": [],
   "source": [
    "esult_matrix[1, 14:49, y]"
   ]
  },
  {
   "cell_type": "code",
   "execution_count": 40,
   "metadata": {},
   "outputs": [
    {
     "data": {
      "text/plain": [
       "48.06370414754567"
      ]
     },
     "execution_count": 40,
     "metadata": {},
     "output_type": "execute_result"
    }
   ],
   "source": [
    "birth"
   ]
  },
  {
   "cell_type": "code",
   "execution_count": 5,
   "metadata": {},
   "outputs": [],
   "source": [
    "# Simulate population dynamics\n",
    "simulated_matrix = np.zeros((8, 86, 34))  # Assuming shape (8, 86, 34) for years 1990 to 2023\n",
    "\n",
    "for i in range(8):\n",
    "    for year in range(1990, 2023):  # Correct year range\n",
    "        y_idx = year - 1990\n",
    "        mortality_rate = death_matrix[i % 2, 0:85, y_idx]  # Mortality rate for ages 0 to 85\n",
    "        people_next = result_matrix[i, 0:85, y_idx] * (1 - mortality_rate)  # Adjust people based on mortality\n",
    "        people_next[-1] = people_next[-1] + result_matrix[i, 85, y_idx] * (1-death_matrix[i % 2, 85, y_idx])  # Age 86+\n",
    "        simulated_matrix[i, 1:86, y_idx+1] = people_next # 85 not included\n",
    "        # New birth (not accounting for migration this year)\n",
    "\n",
    "# For specific female population birth simulation\n",
    "for i in [1, 3, 5, 7]:  # Assuming these indices are for female populations\n",
    "    for year in range(1991, 2024):  # Correct year range for births\n",
    "        y_idx = year - 1990\n",
    "        y_fer_idx = year - 1980  # Indexing fertility rates\n",
    "        # Females aged 15 to 49\n",
    "        females = result_matrix[i, 14:49, y_idx]  # Extract female population for reproductive ages\n",
    "        \n",
    "        fer_rates = fertility_matrix[i // 2, y_fer_idx, :]  # Fertility rates for ages 15-49\n",
    "        new_born = sum(females * fer_rates)  # Calculate new births\n",
    "        \n",
    "        female_newborns = np.round(new_born / 2.06)  # Female newborns (approx. 1/2.06)\n",
    "        male_newborns = np.round(new_born * 1.06 / 2.06)  # Male newborns (1.06 males per female)\n",
    "\n",
    "        # Assign new born to age 0\n",
    "        simulated_matrix[i, 0, y_idx] = female_newborns\n",
    "        simulated_matrix[i - 1, 0, y_idx] = male_newborns\n"
   ]
  },
  {
   "cell_type": "code",
   "execution_count": null,
   "metadata": {},
   "outputs": [],
   "source": []
  },
  {
   "cell_type": "markdown",
   "metadata": {},
   "source": [
    "# get net migration\n"
   ]
  },
  {
   "cell_type": "code",
   "execution_count": null,
   "metadata": {},
   "outputs": [],
   "source": []
  },
  {
   "cell_type": "code",
   "execution_count": 10,
   "metadata": {},
   "outputs": [
    {
     "data": {
      "text/plain": [
       "array([[[0.0000e+00, 1.6796e+04, 1.6768e+04, ..., 1.0647e+04,\n",
       "         9.8930e+03, 1.0705e+04],\n",
       "        [0.0000e+00, 1.6695e+04, 1.8390e+04, ..., 1.1172e+04,\n",
       "         1.0526e+04, 1.0467e+04],\n",
       "        [0.0000e+00, 1.9228e+04, 1.6997e+04, ..., 1.1945e+04,\n",
       "         1.2111e+04, 1.1283e+04],\n",
       "        ...,\n",
       "        [0.0000e+00, 1.1010e+03, 1.1040e+03, ..., 4.0420e+03,\n",
       "         4.7840e+03, 4.8870e+03],\n",
       "        [0.0000e+00, 8.9200e+02, 9.7000e+02, ..., 3.1220e+03,\n",
       "         3.6990e+03, 4.3830e+03],\n",
       "        [0.0000e+00, 3.0200e+03, 3.3450e+03, ..., 1.7255e+04,\n",
       "         1.7621e+04, 1.8393e+04]],\n",
       "\n",
       "       [[0.0000e+00, 1.5846e+04, 1.5819e+04, ..., 1.0044e+04,\n",
       "         9.3330e+03, 1.0099e+04],\n",
       "        [0.0000e+00, 1.5244e+04, 1.7012e+04, ..., 1.0802e+04,\n",
       "         9.8700e+03, 9.8950e+03],\n",
       "        [0.0000e+00, 1.8061e+04, 1.5530e+04, ..., 1.1624e+04,\n",
       "         1.1745e+04, 1.0711e+04],\n",
       "        ...,\n",
       "        [0.0000e+00, 1.7840e+03, 1.8250e+03, ..., 5.6410e+03,\n",
       "         7.0680e+03, 7.2100e+03],\n",
       "        [0.0000e+00, 1.5360e+03, 1.6460e+03, ..., 4.4580e+03,\n",
       "         5.3150e+03, 6.6830e+03],\n",
       "        [0.0000e+00, 6.4860e+03, 6.9490e+03, ..., 3.4040e+04,\n",
       "         3.4562e+04, 3.5467e+04]],\n",
       "\n",
       "       [[0.0000e+00, 5.5460e+03, 5.4880e+03, ..., 4.1090e+03,\n",
       "         4.2140e+03, 4.1600e+03],\n",
       "        [0.0000e+00, 5.0200e+03, 5.1920e+03, ..., 4.1110e+03,\n",
       "         3.9740e+03, 4.2440e+03],\n",
       "        [0.0000e+00, 4.9190e+03, 5.0540e+03, ..., 3.9580e+03,\n",
       "         4.1950e+03, 4.0400e+03],\n",
       "        ...,\n",
       "        [0.0000e+00, 1.2500e+02, 9.4000e+01, ..., 3.7900e+02,\n",
       "         4.1000e+02, 3.9600e+02],\n",
       "        [0.0000e+00, 7.8000e+01, 1.1000e+02, ..., 3.1600e+02,\n",
       "         3.3700e+02, 3.6800e+02],\n",
       "        [0.0000e+00, 2.6800e+02, 2.9300e+02, ..., 1.6650e+03,\n",
       "         1.6490e+03, 1.6530e+03]],\n",
       "\n",
       "       ...,\n",
       "\n",
       "       [[0.0000e+00, 1.7890e+03, 1.8570e+03, ..., 1.2520e+03,\n",
       "         1.2410e+03, 1.2480e+03],\n",
       "        [0.0000e+00, 1.7990e+03, 1.9480e+03, ..., 1.1680e+03,\n",
       "         1.1310e+03, 1.1880e+03],\n",
       "        [0.0000e+00, 1.8360e+03, 1.8380e+03, ..., 1.4680e+03,\n",
       "         1.3200e+03, 1.2670e+03],\n",
       "        ...,\n",
       "        [0.0000e+00, 3.3000e+01, 3.6000e+01, ..., 3.7900e+02,\n",
       "         4.1200e+02, 4.5100e+02],\n",
       "        [0.0000e+00, 3.2000e+01, 3.2000e+01, ..., 3.1500e+02,\n",
       "         3.5400e+02, 3.8800e+02],\n",
       "        [0.0000e+00, 8.5000e+01, 1.0000e+02, ..., 1.7800e+03,\n",
       "         1.8410e+03, 1.9210e+03]],\n",
       "\n",
       "       [[0.0000e+00, 4.2800e+02, 4.4900e+02, ..., 1.0200e+03,\n",
       "         1.0780e+03, 1.1340e+03],\n",
       "        [0.0000e+00, 4.4600e+02, 5.8000e+02, ..., 5.0300e+02,\n",
       "         5.2300e+02, 4.8400e+02],\n",
       "        [0.0000e+00, 4.4300e+02, 4.4400e+02, ..., 5.8000e+02,\n",
       "         6.2100e+02, 6.0000e+02],\n",
       "        ...,\n",
       "        [0.0000e+00, 1.9000e+01, 1.4000e+01, ..., 5.3000e+01,\n",
       "         5.7000e+01, 7.7000e+01],\n",
       "        [0.0000e+00, 1.7000e+01, 1.6000e+01, ..., 6.9000e+01,\n",
       "         4.2000e+01, 5.3000e+01],\n",
       "        [0.0000e+00, 4.3000e+01, 5.3000e+01, ..., 3.1800e+02,\n",
       "         3.4000e+02, 3.3800e+02]],\n",
       "\n",
       "       [[0.0000e+00, 4.0400e+02, 4.2300e+02, ..., 9.6200e+02,\n",
       "         1.0170e+03, 1.0700e+03],\n",
       "        [0.0000e+00, 3.9900e+02, 4.9900e+02, ..., 5.1700e+02,\n",
       "         5.4400e+02, 4.9400e+02],\n",
       "        [0.0000e+00, 4.1800e+02, 3.9700e+02, ..., 6.2100e+02,\n",
       "         6.8900e+02, 6.6000e+02],\n",
       "        ...,\n",
       "        [0.0000e+00, 2.1000e+01, 1.7000e+01, ..., 7.0000e+01,\n",
       "         6.8000e+01, 8.4000e+01],\n",
       "        [0.0000e+00, 1.9000e+01, 1.8000e+01, ..., 8.0000e+01,\n",
       "         6.4000e+01, 5.9000e+01],\n",
       "        [0.0000e+00, 9.8000e+01, 1.0800e+02, ..., 4.9400e+02,\n",
       "         5.0700e+02, 5.0400e+02]]])"
      ]
     },
     "execution_count": 10,
     "metadata": {},
     "output_type": "execute_result"
    }
   ],
   "source": [
    "np.round(simulated_matrix) "
   ]
  },
  {
   "cell_type": "code",
   "execution_count": 31,
   "metadata": {},
   "outputs": [
    {
     "data": {
      "text/plain": [
       "array([16796., 16768., 17034., 16987., 16706., 16630., 15964., 14022.,\n",
       "       14231., 15720., 13277., 13169., 11787., 11680., 11744., 11812.,\n",
       "       12196., 12270., 11885., 11204., 11655., 12733., 11340., 12289.,\n",
       "       12034., 11772., 11154., 10922., 11128., 10596., 10647.,  9893.,\n",
       "       10705.])"
      ]
     },
     "execution_count": 31,
     "metadata": {},
     "output_type": "execute_result"
    }
   ],
   "source": [
    "np.round(simulated_matrix[0,0,1:]) "
   ]
  },
  {
   "cell_type": "code",
   "execution_count": 32,
   "metadata": {},
   "outputs": [
    {
     "data": {
      "text/plain": [
       "array([18396., 17102., 17702., 17644., 17509., 17080., 16663., 16204.,\n",
       "       14684., 14823., 15269., 13157., 12968., 11988., 12218., 12272.,\n",
       "       12405., 13043., 12279., 11690., 11275., 12330., 12651., 11592.,\n",
       "       12343., 12152., 11498., 10995., 11072., 11176., 10530., 10472.,\n",
       "        9886.])"
      ]
     },
     "execution_count": 32,
     "metadata": {},
     "output_type": "execute_result"
    }
   ],
   "source": [
    "result_matrix[0,0,1:34]"
   ]
  },
  {
   "cell_type": "code",
   "execution_count": 27,
   "metadata": {},
   "outputs": [
    {
     "data": {
      "text/plain": [
       "46.00095260776376"
      ]
     },
     "execution_count": 27,
     "metadata": {},
     "output_type": "execute_result"
    }
   ],
   "source": [
    "18396 / 16796 * 42"
   ]
  },
  {
   "cell_type": "code",
   "execution_count": 13,
   "metadata": {},
   "outputs": [],
   "source": [
    "net_migration = result_matrix[:,:,1:34] - np.round(simulated_matrix[:,:,1:]) "
   ]
  },
  {
   "cell_type": "code",
   "execution_count": 33,
   "metadata": {},
   "outputs": [
    {
     "data": {
      "text/plain": [
       "array([1600.,  334.,  668.,  657.,  803.,  450.,  699., 2182.,  453.,\n",
       "       -897., 1992.,    0., 1181.,  308.,  474.,  460.,  209.,  773.,\n",
       "        394.,  486., -380., -403., 1311., -697.,  309.,  380.,  344.,\n",
       "         73.,  -56.,  580., -117.,  579., -819.])"
      ]
     },
     "execution_count": 33,
     "metadata": {},
     "output_type": "execute_result"
    }
   ],
   "source": [
    "net_migration[0,0,:]"
   ]
  },
  {
   "cell_type": "code",
   "execution_count": 35,
   "metadata": {},
   "outputs": [
    {
     "data": {
      "text/plain": [
       "-380.0"
      ]
     },
     "execution_count": 35,
     "metadata": {},
     "output_type": "execute_result"
    }
   ],
   "source": [
    "net_migration[0,0,20]"
   ]
  },
  {
   "cell_type": "code",
   "execution_count": 25,
   "metadata": {},
   "outputs": [
    {
     "data": {
      "text/plain": [
       "array([[ 90.5 ,  97.45,  98.75, ...,  59.4 ,  56.15,  57.95],\n",
       "       [ 91.8 ,  91.95,  98.6 , ...,  63.35,  67.65,  61.8 ],\n",
       "       [ 88.6 ,  92.8 ,  93.5 , ...,  70.3 ,  67.5 ,  71.25],\n",
       "       ...,\n",
       "       [  1.75,   1.7 ,   1.7 , ...,  22.1 ,  24.7 ,  21.4 ],\n",
       "       [  0.6 ,   1.55,   1.55, ...,  18.6 ,  20.35,  23.7 ],\n",
       "       [  4.25,   4.15,   5.05, ...,  90.8 ,  97.6 , 104.  ]])"
      ]
     },
     "execution_count": 25,
     "metadata": {},
     "output_type": "execute_result"
    }
   ],
   "source": [
    "result_matrix[5,:,:] * 0.05"
   ]
  },
  {
   "cell_type": "code",
   "execution_count": 27,
   "metadata": {},
   "outputs": [],
   "source": [
    "# Rounding \n",
    "net_migration = np.where(np.abs(net_migration) <= 20, 0, net_migration)\n",
    "\n",
    "migration_in = np.where(net_migration > 0, net_migration, 0)\n",
    "\n",
    "# Create migration_out: only values <= 0, otherwise set to 0\n",
    "migration_out = np.where(net_migration <= 0, net_migration, 0)"
   ]
  },
  {
   "cell_type": "code",
   "execution_count": 43,
   "metadata": {},
   "outputs": [
    {
     "data": {
      "text/plain": [
       "(8, 86, 33)"
      ]
     },
     "execution_count": 43,
     "metadata": {},
     "output_type": "execute_result"
    }
   ],
   "source": [
    "\n",
    "migration_out_rate = migration_out / np.round(simulated_matrix[:,:,1:])  \n",
    "migration_out_rate.shape"
   ]
  },
  {
   "cell_type": "code",
   "execution_count": 50,
   "metadata": {},
   "outputs": [],
   "source": [
    "migration_in_extended = np.concatenate(( np.zeros((8, 86, 1)),migration_in), axis=2)\n"
   ]
  },
  {
   "cell_type": "code",
   "execution_count": 51,
   "metadata": {},
   "outputs": [
    {
     "data": {
      "text/plain": [
       "array([[   0., 1171.,  391., ...,    0.,  565.,    0.],\n",
       "       [   0.,  291.,  220., ...,  945.,  844.,  829.],\n",
       "       [   0.,  175.,  158., ...,  138.,  373.,  320.],\n",
       "       ...,\n",
       "       [   0.,    0.,    0., ...,  325.,  544.,  652.],\n",
       "       [   0.,    0.,    0., ...,  223.,  390.,  602.],\n",
       "       [   0.,    0.,    0., ...,   73.,  128.,  687.]])"
      ]
     },
     "execution_count": 51,
     "metadata": {},
     "output_type": "execute_result"
    }
   ],
   "source": [
    "migration_in_extended[1,:,:]"
   ]
  },
  {
   "cell_type": "code",
   "execution_count": 56,
   "metadata": {},
   "outputs": [],
   "source": [
    "migration_out_rate_extended = np.concatenate(( np.zeros((8, 86, 1)),migration_out_rate), axis=2)"
   ]
  },
  {
   "cell_type": "code",
   "execution_count": 54,
   "metadata": {},
   "outputs": [],
   "source": [
    "migration_out_rate_extended.tofile(\"data/bin/emigrate.bin\")\n",
    "migration_in_extended.tofile(\"data/bin/migration_in.bin\")"
   ]
  },
  {
   "cell_type": "code",
   "execution_count": 55,
   "metadata": {},
   "outputs": [
    {
     "data": {
      "text/plain": [
       "(8, 86, 33)"
      ]
     },
     "execution_count": 55,
     "metadata": {},
     "output_type": "execute_result"
    }
   ],
   "source": [
    "migration_out_rate.shape"
   ]
  },
  {
   "cell_type": "code",
   "execution_count": 53,
   "metadata": {},
   "outputs": [
    {
     "data": {
      "text/plain": [
       "(8, 86, 33)"
      ]
     },
     "execution_count": 53,
     "metadata": {},
     "output_type": "execute_result"
    }
   ],
   "source": [
    "migration_in.shape\n"
   ]
  },
  {
   "cell_type": "code",
   "execution_count": 44,
   "metadata": {},
   "outputs": [
    {
     "data": {
      "text/plain": [
       "array([[[1600.,  334.,  668., ...,    0.,  579.,    0.],\n",
       "        [ 307.,  149.,  263., ...,  944.,  763.,  743.],\n",
       "        [ 201.,  179.,  167., ...,  141.,  418.,  333.],\n",
       "        ...,\n",
       "        [   0.,    0.,    0., ...,  262.,  389.,  514.],\n",
       "        [   0.,    0.,   43., ...,  179.,  326.,  432.],\n",
       "        [   0.,    0.,    0., ...,    0.,   64.,  512.]],\n",
       "\n",
       "       [[1171.,  391.,  205., ...,    0.,  565.,    0.],\n",
       "        [ 291.,  220.,  280., ...,  945.,  844.,  829.],\n",
       "        [ 175.,  158.,  186., ...,  138.,  373.,  320.],\n",
       "        ...,\n",
       "        [   0.,    0.,    0., ...,  325.,  544.,  652.],\n",
       "        [   0.,    0.,   78., ...,  223.,  390.,  602.],\n",
       "        [   0.,    0.,    0., ...,   73.,  128.,  687.]],\n",
       "\n",
       "       [[   0.,    0.,    0., ...,    0.,   32.,    0.],\n",
       "        [  36.,    0.,    0., ...,   86.,   68.,   55.],\n",
       "        [   0.,    0.,    0., ...,    0.,   33.,    0.],\n",
       "        ...,\n",
       "        [   0.,    0.,    0., ...,    0.,   24.,   29.],\n",
       "        [   0.,    0.,    0., ...,    0.,    0.,    0.],\n",
       "        [   0.,    0.,    0., ...,    0.,    0.,    0.]],\n",
       "\n",
       "       ...,\n",
       "\n",
       "       [[ 160.,  118.,    0., ...,    0.,    0.,    0.],\n",
       "        [  40.,   24.,   33., ...,  152.,  136.,  165.],\n",
       "        [   0.,   32.,    0., ...,   65.,   86.,   83.],\n",
       "        ...,\n",
       "        [   0.,    0.,    0., ...,    0.,   30.,   43.],\n",
       "        [   0.,    0.,    0., ...,    0.,    0.,    0.],\n",
       "        [   0.,    0.,    0., ...,    0.,    0.,   31.]],\n",
       "\n",
       "       [[ 152.,   84.,   39., ...,    0.,    0.,    0.],\n",
       "        [   0.,    0.,    0., ...,  118.,   77.,   65.],\n",
       "        [   0.,    0.,    0., ...,   43.,   45.,   57.],\n",
       "        ...,\n",
       "        [   0.,    0.,    0., ...,    0.,    0.,    0.],\n",
       "        [   0.,    0.,    0., ...,    0.,    0.,    0.],\n",
       "        [   0.,    0.,    0., ...,    0.,    0.,   24.]],\n",
       "\n",
       "       [[  95.,  107.,   58., ...,    0.,    0.,    0.],\n",
       "        [   0.,    0.,    0., ...,  172.,  116.,  107.],\n",
       "        [   0.,    0.,    0., ...,   55.,   66.,   61.],\n",
       "        ...,\n",
       "        [   0.,    0.,    0., ...,    0.,    0.,    0.],\n",
       "        [   0.,    0.,    0., ...,    0.,    0.,    0.],\n",
       "        [   0.,    0.,    0., ...,    0.,    0.,    0.]]])"
      ]
     },
     "execution_count": 44,
     "metadata": {},
     "output_type": "execute_result"
    }
   ],
   "source": [
    "migration_in"
   ]
  },
  {
   "cell_type": "code",
   "execution_count": 42,
   "metadata": {},
   "outputs": [
    {
     "data": {
      "text/plain": [
       "array([[[ 0.        ,  0.        ,  0.        , ..., -0.01098901,\n",
       "          0.        , -0.07650631],\n",
       "        [ 0.        ,  0.        ,  0.        , ...,  0.        ,\n",
       "          0.        ,  0.        ],\n",
       "        [ 0.        ,  0.        ,  0.        , ...,  0.        ,\n",
       "          0.        ,  0.        ],\n",
       "        ...,\n",
       "        [ 0.        , -0.02355072,  0.        , ...,  0.        ,\n",
       "          0.        ,  0.        ],\n",
       "        [ 0.        ,  0.        ,  0.        , ...,  0.        ,\n",
       "          0.        ,  0.        ],\n",
       "        [-0.0089404 , -0.01165919,  0.        , ..., -0.00312953,\n",
       "          0.        ,  0.        ]],\n",
       "\n",
       "       [[ 0.        ,  0.        ,  0.        , ..., -0.01712465,\n",
       "          0.        , -0.09040499],\n",
       "        [ 0.        ,  0.        ,  0.        , ...,  0.        ,\n",
       "          0.        ,  0.        ],\n",
       "        [ 0.        ,  0.        ,  0.        , ...,  0.        ,\n",
       "          0.        ,  0.        ],\n",
       "        ...,\n",
       "        [ 0.        ,  0.        ,  0.        , ...,  0.        ,\n",
       "          0.        ,  0.        ],\n",
       "        [-0.02408854, -0.027339  ,  0.        , ...,  0.        ,\n",
       "          0.        ,  0.        ],\n",
       "        [-0.00632131, -0.01108073,  0.        , ...,  0.        ,\n",
       "          0.        ,  0.        ]],\n",
       "\n",
       "       [[-0.06346917, -0.09857872, -0.07590759, ..., -0.03236797,\n",
       "          0.        , -0.03942308],\n",
       "        [ 0.        ,  0.        ,  0.        , ...,  0.        ,\n",
       "          0.        ,  0.        ],\n",
       "        [ 0.        ,  0.        ,  0.        , ...,  0.        ,\n",
       "          0.        ,  0.        ],\n",
       "        ...,\n",
       "        [ 0.        ,  0.        ,  0.        , ...,  0.        ,\n",
       "          0.        ,  0.        ],\n",
       "        [ 0.        ,  0.        ,  0.        , ...,  0.        ,\n",
       "          0.        ,  0.        ],\n",
       "        [ 0.        ,  0.        ,  0.        , ..., -0.03843844,\n",
       "         -0.02668284,  0.        ]],\n",
       "\n",
       "       ...,\n",
       "\n",
       "       [[ 0.        ,  0.        ,  0.        , ..., -0.09664537,\n",
       "         -0.04270749, -0.10016026],\n",
       "        [ 0.        ,  0.        ,  0.        , ...,  0.        ,\n",
       "          0.        ,  0.        ],\n",
       "        [ 0.        ,  0.        ,  0.        , ...,  0.        ,\n",
       "          0.        ,  0.        ],\n",
       "        ...,\n",
       "        [ 0.        ,  0.        ,  0.        , ...,  0.        ,\n",
       "          0.        ,  0.        ],\n",
       "        [ 0.        ,  0.        ,  0.        , ...,  0.        ,\n",
       "          0.        ,  0.        ],\n",
       "        [ 0.        ,  0.        ,  0.        , ..., -0.02022472,\n",
       "         -0.01357958,  0.        ]],\n",
       "\n",
       "       [[ 0.        ,  0.        ,  0.        , ..., -0.4872549 ,\n",
       "         -0.55102041, -0.6005291 ],\n",
       "        [ 0.        ,  0.        ,  0.        , ...,  0.        ,\n",
       "          0.        ,  0.        ],\n",
       "        [ 0.        ,  0.        , -0.03723404, ...,  0.        ,\n",
       "          0.        ,  0.        ],\n",
       "        ...,\n",
       "        [ 0.        ,  0.        ,  0.        , ...,  0.        ,\n",
       "          0.        ,  0.        ],\n",
       "        [ 0.        ,  0.        ,  0.        , ...,  0.        ,\n",
       "          0.        ,  0.        ],\n",
       "        [ 0.        ,  0.        ,  0.        , ...,  0.        ,\n",
       "          0.        ,  0.        ]],\n",
       "\n",
       "       [[ 0.        ,  0.        ,  0.        , ..., -0.43451143,\n",
       "         -0.51425762, -0.59813084],\n",
       "        [ 0.        ,  0.        ,  0.        , ...,  0.        ,\n",
       "          0.        ,  0.        ],\n",
       "        [ 0.        ,  0.        ,  0.        , ...,  0.        ,\n",
       "          0.        ,  0.        ],\n",
       "        ...,\n",
       "        [ 0.        ,  0.        ,  0.        , ...,  0.        ,\n",
       "          0.        ,  0.        ],\n",
       "        [ 0.        ,  0.        ,  0.        , ...,  0.        ,\n",
       "          0.        ,  0.        ],\n",
       "        [ 0.        ,  0.        ,  0.        , ...,  0.        ,\n",
       "          0.        ,  0.        ]]])"
      ]
     },
     "execution_count": 42,
     "metadata": {},
     "output_type": "execute_result"
    }
   ],
   "source": [
    "migration_out_rate"
   ]
  },
  {
   "cell_type": "code",
   "execution_count": null,
   "metadata": {},
   "outputs": [],
   "source": []
  },
  {
   "cell_type": "code",
   "execution_count": 12,
   "metadata": {},
   "outputs": [
    {
     "data": {
      "text/plain": [
       "array([ 1.6529e+04,  2.5000e+01,  2.5000e+01, -6.0000e+00,  1.4000e+01,\n",
       "        8.0000e+00,  1.4000e+01,  4.2000e+01,  4.6000e+01,  3.1000e+01,\n",
       "        1.8000e+01,  3.5000e+01,  3.6000e+01, -4.8000e+01,  2.2000e+01,\n",
       "        4.4000e+01,  4.5000e+01,  5.2000e+01,  2.1400e+02,  1.0800e+02,\n",
       "        3.6000e+01, -1.3000e+01,  9.0000e+00, -1.0000e+01,  4.8000e+01,\n",
       "        7.2000e+01,  6.1000e+01,  1.1100e+02,  7.2000e+01,  1.4300e+02,\n",
       "        4.4000e+01, -2.2200e+02,  3.4600e+02,  2.5500e+02])"
      ]
     },
     "execution_count": 12,
     "metadata": {},
     "output_type": "execute_result"
    }
   ],
   "source": [
    "net_migration[0,15,:]"
   ]
  },
  {
   "cell_type": "code",
   "execution_count": null,
   "metadata": {},
   "outputs": [],
   "source": []
  },
  {
   "cell_type": "markdown",
   "metadata": {},
   "source": [
    "## 1991 and 1992"
   ]
  },
  {
   "cell_type": "code",
   "execution_count": 85,
   "metadata": {},
   "outputs": [
    {
     "data": {
      "text/plain": [
       "array([18396., 17002., 19429., 17325., 14086., 14806., 15664., 14804.,\n",
       "       16064., 16103., 16151., 16119., 16315., 15480., 16987., 16312.,\n",
       "       16548., 18091., 19269., 18477., 18099., 17355., 17275., 18781.,\n",
       "       19469., 21094., 21563., 22506., 22517., 22901., 23764., 23948.,\n",
       "       24427., 23835., 24434., 23310., 22754., 22725., 21353., 20297.,\n",
       "       19376., 19441., 19056., 17894., 17698., 12356.,  9504., 11788.,\n",
       "       10249., 10376., 11841., 11661., 11155.,  9234.,  7811.,  8048.,\n",
       "        8789.,  7877.,  7479.,  7056.,  6767.,  6497.,  6148.,  5764.,\n",
       "        5458.,  4832.,  4471.,  4213.,  3879.,  3681.,  3485.,  3298.,\n",
       "        2980.,  2888.,  2777.,  2639.,  2431.,  2297.,  2048.,  1968.,\n",
       "        1805.,  1522.,  1231.,  1082.,   875.,  2993.])"
      ]
     },
     "execution_count": 85,
     "metadata": {},
     "output_type": "execute_result"
    }
   ],
   "source": [
    "result_matrix[0,:,1]"
   ]
  },
  {
   "cell_type": "code",
   "execution_count": 86,
   "metadata": {},
   "outputs": [
    {
     "data": {
      "text/plain": [
       "array([16796., 16695., 19228., 17148., 13957., 14653., 15540., 14692.,\n",
       "       15956., 15988., 16029., 16013., 16220., 15422., 16932., 16287.,\n",
       "       16521., 18113., 19289., 18468., 17909., 17075., 16939., 18250.,\n",
       "       18966., 20614., 21156., 22120., 22166., 22572., 23499., 23723.,\n",
       "       24196., 23636., 24225., 23126., 22571., 22517., 21167., 20127.,\n",
       "       19235., 19291., 18930., 17773., 17603., 12279.,  9426., 11734.,\n",
       "       10197., 10334., 11806., 11592., 11120.,  9208.,  7792.,  8053.,\n",
       "        8738.,  7850.,  7470.,  7045.,  6778.,  6481.,  6139.,  5747.,\n",
       "        5453.,  4837.,  4460.,  4203.,  3894.,  3725.,  3541.,  3292.,\n",
       "        2979.,  2907.,  2792.,  2670.,  2448.,  2319.,  2059.,  2008.,\n",
       "        1871.,  1509.,  1227.,  1101.,   892.,  3020.])"
      ]
     },
     "execution_count": 86,
     "metadata": {},
     "output_type": "execute_result"
    }
   ],
   "source": [
    "np.round(simulated_matrix[0,:,1])"
   ]
  },
  {
   "cell_type": "code",
   "execution_count": 87,
   "metadata": {},
   "outputs": [
    {
     "data": {
      "text/plain": [
       "array([ 1.60e+03,  3.07e+02,  2.01e+02,  1.77e+02,  1.29e+02,  1.53e+02,\n",
       "        1.24e+02,  1.12e+02,  1.08e+02,  1.15e+02,  1.22e+02,  1.06e+02,\n",
       "        9.50e+01,  5.80e+01,  5.50e+01,  2.50e+01,  2.70e+01, -2.20e+01,\n",
       "       -2.00e+01,  9.00e+00,  1.90e+02,  2.80e+02,  3.36e+02,  5.31e+02,\n",
       "        5.03e+02,  4.80e+02,  4.07e+02,  3.86e+02,  3.51e+02,  3.29e+02,\n",
       "        2.65e+02,  2.25e+02,  2.31e+02,  1.99e+02,  2.09e+02,  1.84e+02,\n",
       "        1.83e+02,  2.08e+02,  1.86e+02,  1.70e+02,  1.41e+02,  1.50e+02,\n",
       "        1.26e+02,  1.21e+02,  9.50e+01,  7.70e+01,  7.80e+01,  5.40e+01,\n",
       "        5.20e+01,  4.20e+01,  3.50e+01,  6.90e+01,  3.50e+01,  2.60e+01,\n",
       "        1.90e+01, -5.00e+00,  5.10e+01,  2.70e+01,  9.00e+00,  1.10e+01,\n",
       "       -1.10e+01,  1.60e+01,  9.00e+00,  1.70e+01,  5.00e+00, -5.00e+00,\n",
       "        1.10e+01,  1.00e+01, -1.50e+01, -4.40e+01, -5.60e+01,  6.00e+00,\n",
       "        1.00e+00, -1.90e+01, -1.50e+01, -3.10e+01, -1.70e+01, -2.20e+01,\n",
       "       -1.10e+01, -4.00e+01, -6.60e+01,  1.30e+01,  4.00e+00, -1.90e+01,\n",
       "       -1.70e+01, -2.70e+01])"
      ]
     },
     "execution_count": 87,
     "metadata": {},
     "output_type": "execute_result"
    }
   ],
   "source": [
    "result_matrix[0,:,1] - np.round(simulated_matrix[0,:,1])"
   ]
  },
  {
   "cell_type": "code",
   "execution_count": 89,
   "metadata": {},
   "outputs": [
    {
     "data": {
      "image/png": "[encoded data removed]",
      "text/plain": [
       "<Figure size 640x480 with 1 Axes>"
      ]
     },
     "metadata": {},
     "output_type": "display_data"
    }
   ],
   "source": [
    "# Plotting vec\n",
    "import matplotlib.pyplot as plt\n",
    "\n",
    "vec = result_matrix[4, :, 1] - np.round(simulated_matrix[4, :, 1])\n",
    "\n",
    "plt.plot(vec, marker='o', linestyle='-', color='b')  # You can customize marker, linestyle, and color\n",
    "plt.title('Difference between result_matrix and rounded simulated_matrix')\n",
    "plt.xlabel('Index')\n",
    "plt.ylabel('Difference')\n",
    "plt.grid(True)\n",
    "plt.show()"
   ]
  },
  {
   "cell_type": "code",
   "execution_count": 90,
   "metadata": {},
   "outputs": [
    {
     "data": {
      "image/png": "[encoded data removed]",
      "text/plain": [
       "<Figure size 640x480 with 1 Axes>"
      ]
     },
     "metadata": {},
     "output_type": "display_data"
    }
   ],
   "source": [
    "vec = result_matrix[3, :, 10] - np.round(simulated_matrix[3, :, 10])\n",
    "\n",
    "plt.plot(vec, marker='o', linestyle='-', color='b')  # You can customize marker, linestyle, and color\n",
    "plt.title('Difference between result_matrix and rounded simulated_matrix')\n",
    "plt.xlabel('Index')\n",
    "plt.ylabel('Difference')\n",
    "plt.grid(True)\n",
    "plt.show()"
   ]
  },
  {
   "cell_type": "code",
   "execution_count": 43,
   "metadata": {},
   "outputs": [
    {
     "data": {
      "text/plain": [
       "array([ 0.09526078,  0.01838874,  0.01045351,  0.0103219 ,  0.00924267,\n",
       "        0.01044155,  0.00797941,  0.0076232 ,  0.00676861,  0.00719289,\n",
       "        0.0076112 ,  0.00661962,  0.00585697,  0.00376086,  0.00324829,\n",
       "        0.00153497,  0.00163428, -0.0012146 , -0.00103686,  0.00048733,\n",
       "        0.01060919,  0.01639824,  0.01983588,  0.02909589,  0.02652114,\n",
       "        0.02328515,  0.01923804,  0.01745027,  0.01583506,  0.01457558,\n",
       "        0.01127708,  0.00948447,  0.00954703,  0.00841936,  0.00862745,\n",
       "        0.00795641,  0.00810775,  0.00923747,  0.00878726,  0.00844637,\n",
       "        0.00733039,  0.00777565,  0.0066561 ,  0.00680808,  0.00539681,\n",
       "        0.00627087,  0.00827498,  0.00460201,  0.00509954,  0.00406425,\n",
       "        0.00296459,  0.00595238,  0.00314748,  0.00282363,  0.0024384 ,\n",
       "       -0.00062089,  0.00583658,  0.00343949,  0.00120482,  0.00156139,\n",
       "       -0.0016229 ,  0.00246875,  0.00146604,  0.00295807,  0.00091693,\n",
       "       -0.0010337 ,  0.00246637,  0.00237925, -0.00385208, -0.01181208,\n",
       "       -0.01581474,  0.0018226 ,  0.00033568, -0.00653595, -0.00537249,\n",
       "       -0.01161049, -0.00694444, -0.00948685, -0.0053424 , -0.01992032,\n",
       "       -0.03527525,  0.00861498,  0.00325998, -0.01725704, -0.0190583 ,\n",
       "       -0.0089404 ])"
      ]
     },
     "execution_count": 43,
     "metadata": {},
     "output_type": "execute_result"
    }
   ],
   "source": [
    "(result_matrix[0,:,1] - np.round(simulated_matrix[0,:,1]) ) / np.round(simulated_matrix[0,:,1])"
   ]
  },
  {
   "cell_type": "code",
   "execution_count": 29,
   "metadata": {},
   "outputs": [
    {
     "data": {
      "text/plain": [
       "array([17102., 18539., 17176., 19597., 17432., 14214., 14902., 15740.,\n",
       "       14860., 16134., 16174., 16225., 16167., 16357., 15492., 17004.,\n",
       "       16291., 16508., 18025., 19256., 18639., 18373., 17709., 17718.,\n",
       "       19321., 19911., 21479., 21897., 22838., 22834., 23126., 23963.,\n",
       "       24139., 24588., 23961., 24540., 23401., 22854., 22789., 21425.,\n",
       "       20382., 19428., 19487., 19120., 17940., 17726., 12370.,  9504.,\n",
       "       11763., 10241., 10348., 11793., 11592., 11104.,  9184.,  7750.,\n",
       "        8012.,  8685.,  7788.,  7391.,  6994.,  6635.,  6404.,  6036.,\n",
       "        5623.,  5321.,  4715.,  4363.,  4074.,  3730.,  3528.,  3348.,\n",
       "        3144.,  2808.,  2711.,  2597.,  2465.,  2260.,  2116.,  1873.,\n",
       "        1775.,  1613.,  1360.,  1078.,   967.,  3306.])"
      ]
     },
     "execution_count": 29,
     "metadata": {},
     "output_type": "execute_result"
    }
   ],
   "source": [
    "result_matrix[0,:,2]"
   ]
  },
  {
   "cell_type": "code",
   "execution_count": 26,
   "metadata": {},
   "outputs": [
    {
     "name": "stderr",
     "output_type": "stream",
     "text": [
      "/var/folders/4p/d1jjph_x7hd35z1h1lq9jd3h0000gn/T/ipykernel_18311/1792414949.py:1: RuntimeWarning: divide by zero encountered in divide\n",
      "  (result_matrix[0,0,:34] - simulated_matrix[0,0,:])/simulated_matrix[0,0,:]\n"
     ]
    },
    {
     "data": {
      "text/plain": [
       "array([        inf,  0.09526078,  0.01991889,  0.03921569,  0.03867664,\n",
       "        0.04806656,  0.02705953,  0.04378602,  0.15561261,  0.03183192,\n",
       "       -0.05706107,  0.15003389, -0.00091123,  0.10019513,  0.02636986,\n",
       "        0.04036104,  0.03894345,  0.01713677,  0.06299919,  0.03315103,\n",
       "        0.04337737, -0.03260403, -0.03165004,  0.11560847, -0.05671739,\n",
       "        0.02567725,  0.03227999,  0.03084095,  0.00668376, -0.00503235,\n",
       "        0.05473764, -0.01098901,  0.05852623, -0.07650631])"
      ]
     },
     "execution_count": 26,
     "metadata": {},
     "output_type": "execute_result"
    }
   ],
   "source": [
    "(result_matrix[0,0,:34] - simulated_matrix[0,0,:])/simulated_matrix[0,0,:]"
   ]
  },
  {
   "cell_type": "code",
   "execution_count": 7,
   "metadata": {},
   "outputs": [
    {
     "data": {
      "text/plain": [
       "array([15879., 15246., 15488., 17099., 18138., 17426., 17297., 16887.,\n",
       "       17160., 18380., 18902., 20700., 20803., 22189., 22014., 22381.,\n",
       "       22844., 23139., 23545., 23231., 23494., 22647., 22107., 21293.,\n",
       "       20426., 19589., 18582., 18758., 18236., 17452., 17370., 11930.,\n",
       "        9287., 11561.,  9843.])"
      ]
     },
     "execution_count": 7,
     "metadata": {},
     "output_type": "execute_result"
    }
   ],
   "source": [
    "females"
   ]
  },
  {
   "cell_type": "code",
   "execution_count": null,
   "metadata": {},
   "outputs": [],
   "source": [
    "\n",
    "\n",
    "read the following bin file\n",
    "\n",
    "result_matrix_data.bin\n",
    "\n",
    "./data/bin/mig_disappear.bin\n",
    "\n",
    "./data/bin/disappear.bin\n",
    "\n",
    "./data/bin/migration_in.bin\n",
    "./data/bin/AESFR_matrix_combine.bin # 12 * 71 * 35 \n",
    "\n",
    "print the first 10 elements; \n",
    "\n"
   ]
  },
  {
   "cell_type": "markdown",
   "metadata": {},
   "source": [
    "# matrix check "
   ]
  },
  {
   "cell_type": "code",
   "execution_count": 22,
   "metadata": {},
   "outputs": [
    {
     "name": "stdout",
     "output_type": "stream",
     "text": [
      "First 10 elements:\n"
     ]
    }
   ],
   "source": [
    "import numpy as np\n",
    "\n",
    "# Read the binary file\n",
    "data = np.fromfile('./data/bin/AESFR_matrix_combine.bin', dtype=np.float64)\n",
    "\n",
    "data = data.reshape([12,71,35])\n",
    "# Show first 10 elements\n",
    "print(\"First 10 elements:\")\n",
    "# print(data[:10])"
   ]
  },
  {
   "cell_type": "code",
   "execution_count": 24,
   "metadata": {},
   "outputs": [
    {
     "data": {
      "text/plain": [
       "array([0.00000000e+00, 2.14319672e-04, 7.40678689e-03, 1.45216230e-02,\n",
       "       2.13462213e-02, 2.84917131e-02, 3.72900000e-02, 4.93818852e-02,\n",
       "       6.55329508e-02, 8.39345984e-02, 1.03450762e-01, 1.20262459e-01,\n",
       "       1.30615984e-01, 1.32117213e-01, 1.26668336e-01, 1.19039250e-01,\n",
       "       1.11384016e-01, 1.01609795e-01, 9.00836885e-02, 7.73914467e-02,\n",
       "       6.33957500e-02, 4.93710656e-02, 3.72769262e-02, 2.81681148e-02,\n",
       "       2.15012582e-02, 1.54375082e-02, 9.51770492e-03, 5.09967213e-03,\n",
       "       2.35508197e-03, 9.50688525e-04, 3.81573770e-04, 2.03409836e-04,\n",
       "       1.13245902e-04, 0.00000000e+00, 0.00000000e+00])"
      ]
     },
     "execution_count": 24,
     "metadata": {},
     "output_type": "execute_result"
    }
   ],
   "source": [
    "data[0][10][:]"
   ]
  },
  {
   "cell_type": "code",
   "execution_count": 5,
   "metadata": {},
   "outputs": [
    {
     "name": "stdout",
     "output_type": "stream",
     "text": [
      "First 10 elements:\n",
      "[16814. 18396. 17102. 17702. 17644. 17509. 17080. 16663. 16204. 14684.]\n"
     ]
    }
   ],
   "source": [
    "import numpy as np\n",
    "\n",
    "# Read the binary file\n",
    "data = np.fromfile('result_matrix_data.bin', dtype=np.float64)\n",
    "\n",
    "# Show first 10 elements\n",
    "print(\"First 10 elements:\")\n",
    "print(data[:10])"
   ]
  },
  {
   "cell_type": "markdown",
   "metadata": {},
   "source": [
    "## mig_disappear"
   ]
  },
  {
   "cell_type": "code",
   "execution_count": 6,
   "metadata": {},
   "outputs": [
    {
     "name": "stdout",
     "output_type": "stream",
     "text": [
      "First 10 elements:\n",
      "[0.0071 0.0003 0.0003 0.0003 0.0004 0.0002 0.0002 0.0002 0.0001 0.0001]\n"
     ]
    }
   ],
   "source": [
    "# Read the binary file\n",
    "data = np.fromfile(\"./data/bin/mig_disappear.bin\", dtype=np.float64)\n",
    "\n",
    "# Show first 10 elements\n",
    "print(\"First 10 elements:\")\n",
    "print(data[:10])"
   ]
  },
  {
   "cell_type": "markdown",
   "metadata": {},
   "source": [
    "## first elements of disappear matrix \n"
   ]
  },
  {
   "cell_type": "code",
   "execution_count": 12,
   "metadata": {},
   "outputs": [
    {
     "name": "stdout",
     "output_type": "stream",
     "text": [
      "First 10 elements:\n",
      "[0.     0.0058 0.0003 0.0003 0.0004 0.0004 0.0002 0.0002 0.0001 0.0001]\n"
     ]
    }
   ],
   "source": [
    "# for migration \n",
    "disappear_data = np.fromfile(\"./data/bin/disappear.bin\", dtype=np.float64)\n",
    "\n",
    "# Show first 10 elements\n",
    "print(\"First 10 elements:\")\n",
    "print(disappear_data[:10])"
   ]
  },
  {
   "cell_type": "code",
   "execution_count": 14,
   "metadata": {},
   "outputs": [],
   "source": [
    "disappear_data = disappear_data.reshape([8,119, 34])"
   ]
  },
  {
   "cell_type": "code",
   "execution_count": 25,
   "metadata": {},
   "outputs": [
    {
     "data": {
      "text/plain": [
       "array([0.        , 0.0058    , 0.0003    , 0.0003    , 0.0004    ,\n",
       "       0.0004    , 0.0002    , 0.0002    , 0.0001    , 0.0001    ,\n",
       "       0.0001    , 0.0001    , 0.0001    , 0.00835426, 0.0001    ,\n",
       "       0.0001    , 0.0002    , 0.00215937, 0.0003    , 0.0003    ,\n",
       "       0.0002    , 0.0005    , 0.0005    , 0.0004    , 0.0004    ,\n",
       "       0.0003    , 0.0004    , 0.0003    , 0.0003    , 0.0003    ,\n",
       "       0.0003    , 0.0004    , 0.0005    , 0.0005    ])"
      ]
     },
     "execution_count": 25,
     "metadata": {},
     "output_type": "execute_result"
    }
   ],
   "source": [
    "disappear_data[0][0]"
   ]
  },
  {
   "cell_type": "code",
   "execution_count": 9,
   "metadata": {},
   "outputs": [
    {
     "data": {
      "text/plain": [
       "272.0"
      ]
     },
     "execution_count": 9,
     "metadata": {},
     "output_type": "execute_result"
    }
   ],
   "source": [
    "len(disappear_data) / 119"
   ]
  },
  {
   "cell_type": "markdown",
   "metadata": {},
   "source": [
    "## migration first 10 elements\n"
   ]
  },
  {
   "cell_type": "code",
   "execution_count": 10,
   "metadata": {},
   "outputs": [],
   "source": [
    "migration_data = np.fromfile(\"./data/bin/migration_in.bin\", dtype=np.float64)"
   ]
  },
  {
   "cell_type": "code",
   "execution_count": 18,
   "metadata": {},
   "outputs": [
    {
     "data": {
      "text/plain": [
       "34.0"
      ]
     },
     "execution_count": 18,
     "metadata": {},
     "output_type": "execute_result"
    }
   ],
   "source": [
    "len(migration_data) /8 /86"
   ]
  },
  {
   "cell_type": "code",
   "execution_count": null,
   "metadata": {},
   "outputs": [],
   "source": [
    "migration_data"
   ]
  },
  {
   "cell_type": "code",
   "execution_count": 17,
   "metadata": {},
   "outputs": [
    {
     "name": "stdout",
     "output_type": "stream",
     "text": [
      "First 10 elements:\n",
      "[   0. 1600.  334.  668.  657.  803.  450.  699. 2182.  453.]\n"
     ]
    }
   ],
   "source": [
    "print(\"First 10 elements:\")\n",
    "print(migration_data[:10])"
   ]
  }
 ],
 "metadata": {
  "kernelspec": {
   "display_name": "base",
   "language": "python",
   "name": "python3"
  },
  "language_info": {
   "codemirror_mode": {
    "name": "ipython",
    "version": 3
   },
   "file_extension": ".py",
   "mimetype": "text/x-python",
   "name": "python",
   "nbconvert_exporter": "python",
   "pygments_lexer": "ipython3",
   "version": "3.12.2"
  }
 },
 "nbformat": 4,
 "nbformat_minor": 2
}
